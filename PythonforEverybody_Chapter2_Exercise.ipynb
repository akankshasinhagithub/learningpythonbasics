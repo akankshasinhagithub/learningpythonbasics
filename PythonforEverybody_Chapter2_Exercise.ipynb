{
 "cells": [
  {
   "cell_type": "code",
   "execution_count": 1,
   "metadata": {},
   "outputs": [
    {
     "name": "stdout",
     "output_type": "stream",
     "text": [
      "Enter your name: Chuck Mishra\n"
     ]
    }
   ],
   "source": [
    "\"\"\"Python for Everybody\n",
    "Exploring Data Using Python 3\n",
    "Charles R. Severance\"\"\"\n",
    "\n",
    "#Chapter2 Exercise\n",
    "\n",
    "\"\"\"Exercise 2.2: Write a program that uses input to prompt a user for their name and then welcomes them.\n",
    "Enter your name: Chuck\n",
    "Hello Chuck\n",
    "\"\"\"\n",
    "username = input('Enter your name: ')\n"
   ]
  },
  {
   "cell_type": "code",
   "execution_count": 2,
   "metadata": {},
   "outputs": [
    {
     "name": "stdout",
     "output_type": "stream",
     "text": [
      "Hello Chuck Mishra\n"
     ]
    }
   ],
   "source": [
    "print (\"Hello \" + username)"
   ]
  },
  {
   "cell_type": "code",
   "execution_count": 3,
   "metadata": {},
   "outputs": [
    {
     "name": "stdout",
     "output_type": "stream",
     "text": [
      "Enter Hours:35\n",
      "Enter Rate:2.75\n"
     ]
    }
   ],
   "source": [
    "\"\"\"Exercise 2.3: Write a program to prompt the user for hours and rate per hour to compute gross pay.\n",
    "Enter Hours: 35 \n",
    "Enter Rate: 2.75\n",
    "Pay: 96.25\"\"\"\n",
    "\n",
    "Hours = input('Enter Hours:')\n",
    "Rate = input('Enter Rate:')\n"
   ]
  },
  {
   "cell_type": "code",
   "execution_count": 8,
   "metadata": {},
   "outputs": [
    {
     "name": "stdout",
     "output_type": "stream",
     "text": [
      "Pay: \n",
      "96.25\n"
     ]
    }
   ],
   "source": [
    "Pay = float(Hours)* float(Rate)\n",
    "print ('Pay: '),\n",
    "print (Pay)"
   ]
  },
  {
   "cell_type": "code",
   "execution_count": 69,
   "metadata": {
    "scrolled": true
   },
   "outputs": [
    {
     "ename": "SyntaxError",
     "evalue": "invalid syntax (<ipython-input-69-2cd997d4a764>, line 13)",
     "output_type": "error",
     "traceback": [
      "\u001b[1;36m  File \u001b[1;32m\"<ipython-input-69-2cd997d4a764>\"\u001b[1;36m, line \u001b[1;32m13\u001b[0m\n\u001b[1;33m    print type (width / 2)\u001b[0m\n\u001b[1;37m             ^\u001b[0m\n\u001b[1;31mSyntaxError\u001b[0m\u001b[1;31m:\u001b[0m invalid syntax\n"
     ]
    }
   ],
   "source": [
    "\"\"\"Exercise 2.4: Assume that we execute the following assignment statements:\n",
    "width = 17 height = 12.0\n",
    "For each of the following expressions, write the value of the expression and the type (of the value of the expression).\n",
    "1. width//2\n",
    "2. width/2.0\n",
    "3. height/3\n",
    "4. 1 + 2 * 5\n",
    "Use the Python interpreter to check your answers.\"\"\"\n",
    "width = 17\n",
    "height = 12.0\n",
    "\n",
    "print (width / 2) \n",
    "print type (width / 2) \n",
    "# <type 'int'>\n",
    "\n",
    "print (width / 2.0)\n",
    "print type(width / 2.0)\n",
    "# <type 'float'>\n",
    "\n",
    "print (height / 3)\n",
    "print type(height / 3) \n",
    "# <type 'float'>\n",
    "\n",
    "print (1 + 2 * 5)\n",
    "print type(1 + 2 * 5)   \n",
    "# <type 'int'>"
   ]
  },
  {
   "cell_type": "code",
   "execution_count": 73,
   "metadata": {},
   "outputs": [
    {
     "name": "stdout",
     "output_type": "stream",
     "text": [
      "Enter a temperature in Celsius:33\n",
      "Temperature in Fahrenheit is: \n",
      "91.4\n"
     ]
    }
   ],
   "source": [
    "\"\"\"Exercise 2.5: Write a program which\n",
    "prompts the user for a Celsius temperature, \n",
    "convert the temperature to Fahrenheit, and\n",
    "print out the converted temperature.\"\"\"\n",
    "\n",
    "Celsius=input(\"Enter a temperature in Celsius:\")\n",
    "int(Celsius)\n",
    "\n",
    "Fahrenheit = (int(Celsius)*9)/5 + 32\n",
    "int(Fahrenheit)\n",
    "print(\"Temperature in Fahrenheit is: \") \n",
    "print(Fahrenheit)\n"
   ]
  },
  {
   "cell_type": "code",
   "execution_count": null,
   "metadata": {},
   "outputs": [],
   "source": []
  }
 ],
 "metadata": {
  "kernelspec": {
   "display_name": "Python 3",
   "language": "python",
   "name": "python3"
  },
  "language_info": {
   "codemirror_mode": {
    "name": "ipython",
    "version": 3
   },
   "file_extension": ".py",
   "mimetype": "text/x-python",
   "name": "python",
   "nbconvert_exporter": "python",
   "pygments_lexer": "ipython3",
   "version": "3.7.3"
  }
 },
 "nbformat": 4,
 "nbformat_minor": 2
}
